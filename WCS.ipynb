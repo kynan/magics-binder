{
 "cells": [
  {
   "cell_type": "code",
   "execution_count": null,
   "metadata": {
    "collapsed": false
   },
   "outputs": [],
   "source": [
    "# Load required libraries\n",
    "\n",
    "import requests\n",
    "import numpy as np\n",
    "import os\n",
    "\n",
    "from Magics import toolbox as magics\n",
    "from ipywidgets import interact\n",
    "import ipywidgets as widgets"
   ]
  },
  {
   "cell_type": "code",
   "execution_count": null,
   "metadata": {
    "collapsed": false
   },
   "outputs": [],
   "source": [
    "def graph (lat, lon, param, color, style) :\n",
    "    url_fmt = ('http://earthserver.ecmwf.int/rasdaman/ows?service=WCS&version=2.0.1'\n",
    "               '&request=ProcessCoverages'\n",
    "               '&query=for c in (%s) return encode(c[Lat(%s), Long(%s), ansi(\"%s\":\"%s\")], \"csv\")')\n",
    "\n",
    "    url = url_fmt % (param, lat, lon, \"2000-01-01T00:00:00+00:00\", \"2005-12-31T00:00:00+00:00\")\n",
    "    \n",
    "    r = requests.get(url)\n",
    "    r.raise_for_status()\n",
    "\n",
    "    # Store the requested data in a numpy array\n",
    "    yy = np.array(eval(r.text.replace('{','[').replace('}',']')))\n",
    "    xx = range(len(yy))\n",
    "    \n",
    "    return magics.graph(yy, xx, \n",
    "                        title=\"Time series %s at %d/%d\" % (param, lat, lon),\n",
    "                        graph={\"graph_line_colour\": color, \"graph_line_style\": style})"
   ]
  },
  {
   "cell_type": "code",
   "execution_count": null,
   "metadata": {
    "collapsed": false,
    "scrolled": false
   },
   "outputs": [],
   "source": [
    "interact(graph,\n",
    "         lon=widgets.IntSlider(min=-180,max=180,step=1,value=10,continuous_update=False),\n",
    "         lat=widgets.IntSlider(min=-90,max=90,step=1,value=10,continuous_update=False),\n",
    "         param=widgets.Dropdown(options=['temp2m', 'precipitation'], value='temp2m'),\n",
    "         color=widgets.Dropdown(options=['ecmwf_blue', 'navy', 'evergreen'], value='ecmwf_blue'),\n",
    "         style=widgets.Dropdown(options=['solid', 'dash', 'dot'], value='solid'));"
   ]
  }
 ],
 "metadata": {
  "celltoolbar": "Edit Metadata",
  "kernelspec": {
   "display_name": "Python 2",
   "language": "python",
   "name": "python2"
  },
  "language_info": {
   "codemirror_mode": {
    "name": "ipython",
    "version": 2
   },
   "file_extension": ".py",
   "mimetype": "text/x-python",
   "name": "python",
   "nbconvert_exporter": "python",
   "pygments_lexer": "ipython2",
   "version": "2.7.12"
  },
  "widgets": {
   "state": {
    "504a9d7293b442e2883d9c9f2068e0a7": {
     "views": [
      {
       "cell_index": 2
      }
     ]
    }
   },
   "version": "1.2.0"
  }
 },
 "nbformat": 4,
 "nbformat_minor": 0
}
